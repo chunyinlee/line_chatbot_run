{
 "cells": [
  {
   "cell_type": "code",
   "execution_count": 60,
   "metadata": {},
   "outputs": [
    {
     "name": "stdout",
     "output_type": "stream",
     "text": [
      "-設定檔上傳結果\n",
      "richmenu-b598a2de61e44bb858be7680a9277980\n",
      "-圖片上傳結果\n",
      "None\n",
      "-設定檔上傳結果\n",
      "richmenu-06e1b83ed7c082bab5de625fa732c38d\n",
      "-圖片上傳結果\n",
      "None\n"
     ]
    }
   ],
   "source": [
    "'''\n",
    "迴圈讀取本地列表，\n",
    "    上傳設定檔，取得id，並將id寫入檔案中，而後上傳圖片\n",
    "\n",
    "'''\n",
    "\n",
    "import json\n",
    "from linebot import LineBotApi\n",
    "\n",
    "# 載入安全設定檔\n",
    "secretFileContentJson=json.load(open(\"./line_secret_key\",'r',encoding='utf8'))\n",
    "line_bot_api = LineBotApi(secretFileContentJson.get(\"channel_access_token\"))\n",
    "\n",
    "\n",
    "\n",
    "'''\n",
    "rich_menu的本地列表\n",
    "'''\n",
    "#rich_menu_array=['rich_menu_room', 'rich_menu_bed', 'rich_menu_bath', 'rich_menu_kit', 'rich_menu_bal1', 'rich_menu_bal2', 'rich_menu_book']\n",
    "\n",
    "rich_menu_array=['rich_menu_bed', 'rich_menu_bath']\n",
    "                 \n",
    "from linebot.models import RichMenu\n",
    "\n",
    "for rich_menu_name in rich_menu_array:\n",
    "\n",
    "    \n",
    "    # 創建菜單，取得menuId\n",
    "    lineRichMenuId = line_bot_api.create_rich_menu(rich_menu=RichMenu.new_from_json_dict(json.load(open(\"素材/\"+rich_menu_name+'/rich_menu.json','r',encoding='utf8'))))\n",
    "    print(\"-設定檔上傳結果\")\n",
    "    print(lineRichMenuId)\n",
    "\n",
    "                                           \n",
    "    # id寫入本地端                              \n",
    "    f = open(\"素材/\"+rich_menu_name+\"/rich_menu_id\", \"w\",encoding='utf8')\n",
    "    f.write(lineRichMenuId)\n",
    "    f.close()                                       \n",
    " \n",
    "\n",
    "    # 上傳照片至該id\n",
    "    set_image_response=''\n",
    "    with open(\"素材/\"+rich_menu_name+'/rich_menu.jpeg', 'rb') as f:\n",
    "        set_image_response=line_bot_api.set_rich_menu_image(lineRichMenuId, 'image/jpeg', f)\n",
    "        \n",
    "    print(\"-圖片上傳結果\")                                               \n",
    "    print(set_image_response)\n",
    "                                                                 \n"
   ]
  },
  {
   "cell_type": "code",
   "execution_count": 58,
   "metadata": {},
   "outputs": [
    {
     "data": {
      "text/plain": [
       "[{\"areas\": [{\"action\": {\"data\": \"menu=rich_menu_room\", \"type\": \"postback\"}, \"bounds\": {\"height\": 1658, \"width\": 272, \"x\": 29, \"y\": 21}}, {\"action\": {\"text\": \"\\u67b6\\u4e0a\\u7a7a\\u7a7a\\u7684\", \"type\": \"message\"}, \"bounds\": {\"height\": 512, \"width\": 227, \"x\": 2236, \"y\": 767}}, {\"action\": {\"text\": \"\\u6d17\\u624b\\u53f0\\u4e0a\\u6709\\u9762\\u93e1\\u5b50\", \"type\": \"message\"}, \"bounds\": {\"height\": 256, \"width\": 499, \"x\": 1386, \"y\": 1411}}, {\"action\": {\"text\": \"\\u4e0a\\u500b\\u5ec1\\u6240\", \"type\": \"message\"}, \"bounds\": {\"height\": 388, \"width\": 441, \"x\": 854, \"y\": 1275}}, {\"action\": {\"text\": \"\\u6253\\u958b\\u6c34\\u9f8d\\u982d\\uff0c\\u6c92\\u6709\\u6c34\\u6d41\\u51fa\\u4f86\", \"type\": \"message\"}, \"bounds\": {\"height\": 347, \"width\": 433, \"x\": 338, \"y\": 1324}}, {\"action\": {\"text\": \"\\u4eca\\u5929\\u5168\\u57ce\\u5927\\u7f77\\u5de5\\uff0c\\u8857\\u9053\\u4e0a\\u8b66\\u6c11\\u95dc\\u4fc2\\u5f88\\u7dca\\u5f35\", \"type\": \"message\"}, \"bounds\": {\"height\": 252, \"width\": 652, \"x\": 425, \"y\": 24}}, {\"action\": {\"text\": \"\\u8eba\\u5165\\u6d74\\u7f38\\uff0c\\u70ba\\u4ec0\\u9ebc\\u6211\\u6703\\u88ab\\u56f0\\u5728\\u9019\\u5462\\uff1f\", \"type\": \"message\"}, \"bounds\": {\"height\": 446, \"width\": 2133, \"x\": 330, \"y\": 276}}, {\"action\": {\"text\": \"\\u8eba\\u5165\\u6d74\\u7f38\\uff0c\\u70ba\\u4ec0\\u9ebc\\u6211\\u6703\\u88ab\\u56f0\\u5728\\u9019\\u5462\\uff1f\", \"type\": \"message\"}, \"bounds\": {\"height\": 252, \"width\": 1391, \"x\": 1072, \"y\": 29}}], \"chatBarText\": \"\\u67e5\\u770b\\u6d74\\u5ba4\", \"name\": \"rich_menu_bath\", \"richMenuId\": \"richmenu-c474501d70b8e77d42613d67ed56691b\", \"selected\": true, \"size\": {\"height\": 1686, \"width\": 2500}},\n",
       " {\"areas\": [{\"action\": {\"data\": \"menu=rich_menu_room\", \"type\": \"postback\"}, \"bounds\": {\"height\": 1642, \"width\": 260, \"x\": 37, \"y\": 29}}, {\"action\": {\"text\": \"\\u66f8\\u6ac3\\u653e\\u6eff\\u4e86\\u66f8\\uff0c\\u540a\\u71c8\\u4e0a\\u7684\\u5de8\\u87d2\\u3001\\u7121\\u8072\\u7684\\u5165\\u4fb5\\u3001\\u672a\\u7adf\\u7684\\u5947\\u8e5f...\", \"type\": \"message\"}, \"bounds\": {\"height\": 1646, \"width\": 281, \"x\": 2186, \"y\": 33}}, {\"action\": {\"type\": \"uri\", \"uri\": \"https://tl.hkrev.info/\"}, \"bounds\": {\"height\": 248, \"width\": 1126, \"x\": 796, \"y\": 1419}}, {\"action\": {\"text\": \"\\u684c\\u9762\\u4e7e\\u6de8\\u3001\\u62bd\\u5c5c\\u4e5f\\u6c92\\u6709\\u6771\\u897f\", \"type\": \"message\"}, \"bounds\": {\"height\": 590, \"width\": 932, \"x\": 429, \"y\": 367}}, {\"action\": {\"text\": \"\\u5f9e\\u7a97\\u5916\\u671b\\u898b\\u9060\\u65b9\\u7684\\u5927\\u5b78\\u5347\\u8d77\\u9663\\u9663\\u6fc3\\u7159\", \"type\": \"message\"}, \"bounds\": {\"height\": 219, \"width\": 879, \"x\": 297, \"y\": 29}}, {\"action\": {\"text\": \"\\u5750\\u4e0a\\u6905\\u5b50\", \"type\": \"message\"}, \"bounds\": {\"height\": 194, \"width\": 210, \"x\": 1172, \"y\": 144}}], \"chatBarText\": \"\\u67e5\\u770b\\u66f8\\u623f\", \"name\": \"rich_menu_book\", \"richMenuId\": \"richmenu-a39282db661cf95f67fd87a9486eab29\", \"selected\": true, \"size\": {\"height\": 1686, \"width\": 2500}},\n",
       " {\"areas\": [{\"action\": {\"data\": \"menu=rich_menu_room\", \"type\": \"postback\"}, \"bounds\": {\"height\": 1651, \"width\": 277, \"x\": 28, \"y\": 22}}, {\"action\": {\"data\": \"menu=rich_menu_bal1\", \"text\": \"\\u524d\\u5f80\\u967d\\u53f0\", \"type\": \"postback\"}, \"bounds\": {\"height\": 438, \"width\": 446, \"x\": 2021, \"y\": 1234}}, {\"action\": {\"text\": \"\\u53ef\\u4ee5\\u9ede\\u706b\\uff0c\\u4f46\\u4e0d\\u77e5\\u9053\\u80fd\\u505a\\u4ec0\\u9ebc\", \"type\": \"message\"}, \"bounds\": {\"height\": 425, \"width\": 1172, \"x\": 763, \"y\": 1242}}, {\"action\": {\"text\": \"\\u767c\\u73fe\\u4e00\\u9846\\u5927\\u51b0\\u584a\", \"type\": \"message\"}, \"bounds\": {\"height\": 540, \"width\": 635, \"x\": 1300, \"y\": 29}}, {\"action\": {\"text\": \"\\u62bd\\u5c5c\\u6709\\u628a\\u83dc\\u5200\", \"type\": \"message\"}, \"bounds\": {\"height\": 974, \"width\": 462, \"x\": 301, \"y\": 693}}, {\"action\": {\"text\": \"\\u6ac3\\u5b50\\u88e1\\u6709\\u6578\\u500b\\u934b\\u5b50\", \"type\": \"message\"}, \"bounds\": {\"height\": 355, \"width\": 994, \"x\": 301, \"y\": 29}}], \"chatBarText\": \"\\u67e5\\u770b\\u5eda\\u623f\", \"name\": \"rich_menu_kit\", \"richMenuId\": \"richmenu-d24e5a22fe786b69911762ee904b9540\", \"selected\": true, \"size\": {\"height\": 1686, \"width\": 2500}},\n",
       " {\"areas\": [{\"action\": {\"data\": \"menu=rich_menu_room\", \"type\": \"postback\"}, \"bounds\": {\"height\": 1646, \"width\": 272, \"x\": 29, \"y\": 21}}, {\"action\": {\"text\": \"\\u7ffb\\u627e\\u8863\\u6ac3\\uff0c\\u53ea\\u6709\\u8863\\u670d\", \"type\": \"message\"}, \"bounds\": {\"height\": 726, \"width\": 343, \"x\": 2116, \"y\": 29}}, {\"action\": {\"text\": \"\\u5f9e\\u7a97\\u5916\\u671b\\u898b\\u592a\\u53e4\\u5ee3\\u5834\\u4e0a\\u6709\\u4f4d\\u8eab\\u8457\\u9ec3\\u8863\\u7684\\u4eba\", \"type\": \"message\"}, \"bounds\": {\"height\": 227, \"width\": 585, \"x\": 1498, \"y\": 29}}, {\"action\": {\"text\": \"\\u8eba\\u5230\\u5e8a\\u4e0a\\uff0c\\u771f\\u8212\\u670d\\uff0c\\u5feb\\u7761\\u8457\\u4e86...\", \"type\": \"message\"}, \"bounds\": {\"height\": 734, \"width\": 1176, \"x\": 293, \"y\": 25}}, {\"action\": {\"text\": \"\\u62bd\\u5c5c\\u5167\\u653e\\u4e86\\u4e00\\u9802\\u5b89\\u5168\\u5e3d\\uff0c\\u4e0a\\u9762\\u9084\\u6709\\u5e7e\\u8655\\u6389\\u6f06\\u7684\\u75d5\\u8de1\", \"type\": \"message\"}, \"bounds\": {\"height\": 397, \"width\": 412, \"x\": 293, \"y\": 751}}, {\"action\": {\"text\": \"\\u684c\\u4e0a\\u653e\\u4e86\\u4e00\\u9762\\u5927\\u65d7\\uff1a\\u5149\\u5fa9\\u9999\\u6e2f \\u6642\\u4ee3\\u9769\\u547d\", \"type\": \"message\"}, \"bounds\": {\"height\": 219, \"width\": 974, \"x\": 301, \"y\": 1448}}], \"chatBarText\": \"\\u67e5\\u770b\\u81e5\\u5ba4\", \"name\": \"rich_menu_bed\", \"richMenuId\": \"richmenu-b1c53cf4d4c4994b160f42086b22068a\", \"selected\": true, \"size\": {\"height\": 1686, \"width\": 2500}},\n",
       " {\"areas\": [{\"action\": {\"data\": \"menu=rich_menu_kit\", \"type\": \"postback\"}, \"bounds\": {\"height\": 1646, \"width\": 264, \"x\": 37, \"y\": 33}}, {\"action\": {\"text\": \"\\u7ffb\\u627e\\u8863\\u670d\", \"type\": \"message\"}, \"bounds\": {\"height\": 425, \"width\": 2034, \"x\": 355, \"y\": 747}}, {\"action\": {\"text\": \"\\u4eca\\u5929\\u662f11\\u670824\\u65e5\\uff0c\\u6211\\u4e5f\\u8981\\u6295\\u7968\\u8868\\u9054\\u81ea\\u5df1\\u7684\\u610f\\u898b\\uff01\", \"type\": \"message\"}, \"bounds\": {\"height\": 182, \"width\": 2182, \"x\": 289, \"y\": 1481}}, {\"action\": {\"text\": \"\\u6d17\\u8863\\u6a5f\\u5df2\\u7d93\\u6c92\\u6709\\u6771\\u897f\\u4e86\", \"type\": \"message\"}, \"bounds\": {\"height\": 545, \"width\": 668, \"x\": 355, \"y\": 33}}], \"chatBarText\": \"\\u67e5\\u770b\\u967d\\u53f0\", \"name\": \"rich_menu_bal2\", \"richMenuId\": \"richmenu-c9d86a8918becb66d93659d1533a5873\", \"selected\": true, \"size\": {\"height\": 1686, \"width\": 2500}},\n",
       " {\"areas\": [{\"action\": {\"data\": \"menu=rich_menu_kit\", \"type\": \"postback\"}, \"bounds\": {\"height\": 1651, \"width\": 276, \"x\": 29, \"y\": 20}}, {\"action\": {\"text\": \"\\u6253\\u958b\\u6d17\\u8863\\u6a5f\", \"type\": \"message\"}, \"bounds\": {\"height\": 553, \"width\": 668, \"x\": 355, \"y\": 25}}, {\"action\": {\"text\": \"\\u7a97\\u5916\\u88dd\\u8a2d\\u4e86\\u9435\\u7a97\\uff0c\\u6839\\u672c\\u96e2\\u4e0d\\u958b\", \"type\": \"message\"}, \"bounds\": {\"height\": 198, \"width\": 2167, \"x\": 296, \"y\": 1473}}], \"chatBarText\": \"\\u67e5\\u770b\\u967d\\u53f0\", \"name\": \"rich_menu_bal1\", \"richMenuId\": \"richmenu-01f14944992b1d4db5afb49ee765d460\", \"selected\": true, \"size\": {\"height\": 1686, \"width\": 2500}},\n",
       " {\"areas\": [{\"action\": {\"data\": \"menu=rich_menu_bed\", \"text\": \"\\u524d\\u5f80\\u81e5\\u5ba4\", \"type\": \"postback\"}, \"bounds\": {\"height\": 726, \"width\": 1163, \"x\": 33, \"y\": 21}}, {\"action\": {\"data\": \"menu=rich_menu_kit\", \"text\": \"\\u524d\\u5f80\\u5eda\\u623f\", \"type\": \"postback\"}, \"bounds\": {\"height\": 421, \"width\": 880, \"x\": 37, \"y\": 1064}}, {\"action\": {\"text\": \"\\u6c92\\u8fa6\\u6cd5\\u5f9e\\u5ba2\\u5ef3\\u904e\\u53bb\", \"type\": \"message\"}, \"bounds\": {\"height\": 182, \"width\": 883, \"x\": 37, \"y\": 1485}}, {\"action\": {\"data\": \"menu=rich_menu_bath\", \"text\": \"\\u524d\\u5f80\\u6d74\\u5ba4\", \"type\": \"postback\"}, \"bounds\": {\"height\": 342, \"width\": 483, \"x\": 1192, \"y\": 25}}, {\"action\": {\"text\": \"\\u9580\\u6253\\u4e0d\\u958b\\uff0c\\u88ab\\u9396\\u4f4f\\u4e86\", \"type\": \"message\"}, \"bounds\": {\"height\": 632, \"width\": 796, \"x\": 1671, \"y\": 12}}, {\"action\": {\"text\": \"\\u5617\\u8a66\\u958b\\u9580\", \"type\": \"message\"}, \"bounds\": {\"height\": 437, \"width\": 227, \"x\": 2252, \"y\": 1234}}, {\"action\": {\"type\": \"uri\", \"uri\": \"https://www.twreporter.org/topics/hong-kong-extradition-law\"}, \"bounds\": {\"height\": 186, \"width\": 582, \"x\": 1287, \"y\": 1485}}], \"chatBarText\": \"\\u67e5\\u770b\\u5c4b\\u5167\", \"name\": \"rich_menu_room\", \"richMenuId\": \"richmenu-b485cff71f87602caeaa978a2372e722\", \"selected\": true, \"size\": {\"height\": 1686, \"width\": 2500}}]"
      ]
     },
     "execution_count": 58,
     "metadata": {},
     "output_type": "execute_result"
    }
   ],
   "source": [
    "'''\n",
    "\n",
    "查詢帳號內擁有的richmenu \n",
    "\n",
    "'''\n",
    "\n",
    "from linebot import (\n",
    "    LineBotApi\n",
    ")\n",
    "\n",
    "import json\n",
    "\n",
    "secretFileContentJson=json.load(open(\"./line_secret_key\",'r',encoding='utf8'))\n",
    "line_bot_api = LineBotApi(secretFileContentJson.get(\"channel_access_token\"))\n",
    "\n",
    "line_bot_api.get_rich_menu_list()\n"
   ]
  },
  {
   "cell_type": "code",
   "execution_count": 18,
   "metadata": {},
   "outputs": [],
   "source": [
    "#刪除rich_menu_id\n",
    "#line_bot_api.delete_rich_menu(\"richmenu-c042719fdd65cb57fe49d080b009d418\")"
   ]
  },
  {
   "cell_type": "code",
   "execution_count": 59,
   "metadata": {},
   "outputs": [
    {
     "name": "stdout",
     "output_type": "stream",
     "text": [
      "None\n",
      "None\n"
     ]
    }
   ],
   "source": [
    "'''\n",
    "\n",
    "移除帳號內的richmenu\n",
    "\n",
    "'''\n",
    "\n",
    "from linebot import (\n",
    "    LineBotApi\n",
    ")\n",
    "\n",
    "import json\n",
    "secretFileContentJson=json.load(open(\"./line_secret_key\",'r',encoding='utf8'))\n",
    "line_bot_api = LineBotApi(secretFileContentJson.get(\"channel_access_token\"))\n",
    "\n",
    "# 設定要移除的rich_menu\n",
    "#rich_menu_name_array = ['rich_menu_room', 'rich_menu_bed', 'rich_menu_bath', 'rich_menu_kit', 'rich_menu_bal1', 'rich_menu_bal2', 'rich_menu_book']\n",
    "\n",
    "for rich_menu_name in rich_menu_name_array:\n",
    "    \n",
    "    # 讀取rich_menu_id檔案，並告知 Line 進行刪除，並在刪除後，把本地檔案內容清除\n",
    "    with open(\"素材/\"+rich_menu_name+'/rich_menu_id', 'r') as myfile:\n",
    "        rich_menu_id = myfile.read()\n",
    "        deleteResult = line_bot_api.delete_rich_menu(rich_menu_id)\n",
    "        print(deleteResult)\n",
    "        \n",
    "    f = open(\"素材/\"+rich_menu_name+\"/rich_menu_id\", \"w\")\n",
    "    f.write('')\n",
    "    f.close() "
   ]
  },
  {
   "cell_type": "code",
   "execution_count": 40,
   "metadata": {},
   "outputs": [],
   "source": [
    "'''\n",
    "\n",
    "解除用戶綁定\n",
    "\n",
    "'''\n",
    "\n",
    "from linebot import (\n",
    "    LineBotApi\n",
    ")\n",
    "\n",
    "import json\n",
    "\n",
    "# rich_menu_id_array = [\"rich_menu_0\"]\n",
    "\n",
    "secretFileContentJson=json.load(open(\"./line_secret_key\",'r',encoding='utf8'))\n",
    "line_bot_api = LineBotApi(secretFileContentJson.get(\"channel_access_token\"))\n",
    "\n",
    "self_user_id='Ud29c5cf085e845db7c6457677116df4d'\n",
    "line_bot_api.unlink_rich_menu_from_user(self_user_id)"
   ]
  },
  {
   "cell_type": "code",
   "execution_count": null,
   "metadata": {},
   "outputs": [],
   "source": [
    "'''\n",
    "\n",
    "綁定個人用戶進行測試\n",
    "\n",
    "'''\n",
    "\n",
    "from linebot import (\n",
    "    LineBotApi\n",
    ")\n",
    "\n",
    "import json\n",
    "\n",
    "# rich_menu_id_array = [\"rich_menu_0\"]\n",
    "\n",
    "secretFileContentJson=json.load(open(\"./line_secret_key\",'r',encoding='utf8'))\n",
    "line_bot_api = LineBotApi(secretFileContentJson.get(\"channel_access_token\"))\n",
    "\n",
    "self_user_id='Ud29c5cf085e845db7c6457677116df4d'\n",
    "rich_menu_id='richmenu-62d1b8717117640cdb9910e273452d35'\n",
    "\n",
    "line_bot_api.unlink_rich_menu_from_user(self_user_id)\n",
    "line_bot_api.link_rich_menu_to_user(self_user_id,rich_menu_id)"
   ]
  },
  {
   "cell_type": "code",
   "execution_count": null,
   "metadata": {},
   "outputs": [],
   "source": []
  }
 ],
 "metadata": {
  "kernelspec": {
   "display_name": "Python 3",
   "language": "python",
   "name": "python3"
  },
  "language_info": {
   "codemirror_mode": {
    "name": "ipython",
    "version": 3
   },
   "file_extension": ".py",
   "mimetype": "text/x-python",
   "name": "python",
   "nbconvert_exporter": "python",
   "pygments_lexer": "ipython3",
   "version": "3.7.4"
  }
 },
 "nbformat": 4,
 "nbformat_minor": 2
}
